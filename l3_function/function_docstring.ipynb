{
 "cells": [
  {
   "cell_type": "markdown",
   "metadata": {},
   "source": [
    "# Function + docstring"
   ]
  },
  {
   "cell_type": "code",
   "execution_count": 13,
   "metadata": {
    "scrolled": true
   },
   "outputs": [
    {
     "name": "stdout",
     "output_type": "stream",
     "text": [
      "This function say hello follow by name \n",
      "Hello, top\n"
     ]
    }
   ],
   "source": [
    "def hello(name):\n",
    "    \"\"\"This function say hello follow by name \"\"\"\n",
    "    print(\"Hello,\", name)\n",
    "    \n",
    "print(hello.__doc__)\n",
    "hello('top')"
   ]
  },
  {
   "cell_type": "markdown",
   "metadata": {},
   "source": [
    "# Return"
   ]
  },
  {
   "cell_type": "raw",
   "metadata": {},
   "source": [
    "def function_name(parameters):\n",
    "    \"\"\"docstring\"\"\"\n",
    "    statement(s)\n",
    "    return [expression]"
   ]
  },
  {
   "cell_type": "code",
   "execution_count": 25,
   "metadata": {},
   "outputs": [
    {
     "name": "stdout",
     "output_type": "stream",
     "text": [
      "Hello,Jack\n"
     ]
    }
   ],
   "source": [
    "def hello(name):\n",
    "    \"\"\"This function say hello follow by name \"\"\"\n",
    "    return 'Hello,'+name\n",
    "print(hello('Jack'))\n"
   ]
  },
  {
   "cell_type": "markdown",
   "metadata": {},
   "source": [
    "# Function Arguments"
   ]
  },
  {
   "cell_type": "markdown",
   "metadata": {},
   "source": [
    "- Requird arguments\n",
    "- Keyword arguments\n",
    "- Default arguments\n",
    "- Variable-length arguments"
   ]
  },
  {
   "cell_type": "markdown",
   "metadata": {},
   "source": [
    "## - Requird arguments"
   ]
  },
  {
   "cell_type": "code",
   "execution_count": 38,
   "metadata": {},
   "outputs": [
    {
     "name": "stdout",
     "output_type": "stream",
     "text": [
      "Hello,Jack\n"
     ]
    }
   ],
   "source": [
    "def hello(name):\n",
    "    \"\"\"This function say hello follow by name \"\"\"\n",
    "    return 'Hello,'+name\n",
    "print(hello('Jack'))\n",
    "\n",
    "# print(hello()) #Error"
   ]
  },
  {
   "cell_type": "markdown",
   "metadata": {},
   "source": [
    "## - Keyword arguments"
   ]
  },
  {
   "cell_type": "code",
   "execution_count": 41,
   "metadata": {},
   "outputs": [
    {
     "name": "stdout",
     "output_type": "stream",
     "text": [
      "Hello,Jack\n",
      "Hello,top\n"
     ]
    }
   ],
   "source": [
    "def hello(name):\n",
    "    \"\"\"This function say hello follow by name \"\"\"\n",
    "    return 'Hello,'+name\n",
    "\n",
    "print(hello('Jack'))\n",
    "print(hello(name='top'))\n",
    "#print(hello(name2='Jack')) #Error"
   ]
  },
  {
   "cell_type": "markdown",
   "metadata": {},
   "source": [
    "## - Default arguments"
   ]
  },
  {
   "cell_type": "code",
   "execution_count": 42,
   "metadata": {},
   "outputs": [
    {
     "name": "stdout",
     "output_type": "stream",
     "text": [
      "Hello,None\n",
      "Hello,Jack\n",
      "Hello,top\n"
     ]
    }
   ],
   "source": [
    "def hello(name='None'):\n",
    "    \"\"\"This function say hello follow by name \"\"\"\n",
    "    return 'Hello,'+name\n",
    "\n",
    "print(hello())\n",
    "print(hello('Jack'))\n",
    "print(hello(name='top'))"
   ]
  },
  {
   "cell_type": "markdown",
   "metadata": {},
   "source": [
    "## - Variable-length arguments"
   ]
  },
  {
   "cell_type": "code",
   "execution_count": 43,
   "metadata": {},
   "outputs": [
    {
     "name": "stdout",
     "output_type": "stream",
     "text": [
      "Hello,top Howare you\n",
      "Hello,Tony 123\n"
     ]
    }
   ],
   "source": [
    "def hello(name='None',*word): # ' * ' *word = Tuple\n",
    "    \"\"\"This function say hello follow by name \"\"\"\n",
    "    text=''\n",
    "    for w in word :\n",
    "        text+=str(w)\n",
    "    return 'Hello,'+name+' '+text\n",
    "\n",
    "print(hello('top','How','are you')) # Hello,top Howare you\n",
    "print(hello('Tony',1,2,3)) # Hello,Tony 123\n",
    "\n",
    "# print(hello(name='top','How','are you')) #Erroe\n",
    "# n* arguments"
   ]
  },
  {
   "cell_type": "markdown",
   "metadata": {},
   "source": [
    "# Anonymous Functions"
   ]
  },
  {
   "cell_type": "markdown",
   "metadata": {},
   "source": [
    "# Lambda"
   ]
  },
  {
   "cell_type": "code",
   "execution_count": 44,
   "metadata": {},
   "outputs": [
    {
     "ename": "SyntaxError",
     "evalue": "invalid syntax (<ipython-input-44-0dcbbdafda14>, line 1)",
     "output_type": "error",
     "traceback": [
      "\u001b[0;36m  File \u001b[0;32m\"<ipython-input-44-0dcbbdafda14>\"\u001b[0;36m, line \u001b[0;32m1\u001b[0m\n\u001b[0;31m    lamba arguments: expression\u001b[0m\n\u001b[0m                  ^\u001b[0m\n\u001b[0;31mSyntaxError\u001b[0m\u001b[0;31m:\u001b[0m invalid syntax\n"
     ]
    }
   ],
   "source": [
    "lamba arguments: expression"
   ]
  },
  {
   "cell_type": "code",
   "execution_count": 52,
   "metadata": {},
   "outputs": [
    {
     "name": "stdout",
     "output_type": "stream",
     "text": [
      "30\n",
      "10\n",
      "2.0\n",
      "200\n"
     ]
    }
   ],
   "source": [
    "sum = lambda n1,n2 : n1+n2\n",
    "sub = lambda n1,n2 : n1-n2\n",
    "div = lambda n1,n2 : n1/n2\n",
    "mul = lambda n1,n2 : n1*n2\n",
    "\n",
    "print(sum(20,10)) #30\n",
    "print(sub(20,10)) #10\n",
    "print(div(20,10)) #2.0\n",
    "print(mul(20,10)) #200\n",
    "\n",
    "def sum(n1,n2):\n",
    "    return n1+n2"
   ]
  },
  {
   "cell_type": "markdown",
   "metadata": {},
   "source": [
    "## - Lambda Functions"
   ]
  },
  {
   "cell_type": "code",
   "execution_count": 58,
   "metadata": {},
   "outputs": [
    {
     "name": "stdout",
     "output_type": "stream",
     "text": [
      "22\n",
      "33\n"
     ]
    }
   ],
   "source": [
    "def myfunc(n):\n",
    "  return lambda a : a * n\n",
    "\n",
    "mydoubler = myfunc(2)\n",
    "mytripler = myfunc(3)\n",
    "\n",
    "print(mydoubler(11))  ##22\n",
    "print(mytripler(11))  ##33"
   ]
  },
  {
   "cell_type": "markdown",
   "metadata": {},
   "source": [
    "# Scope"
   ]
  },
  {
   "cell_type": "markdown",
   "metadata": {},
   "source": [
    "- local\n",
    "- Global"
   ]
  },
  {
   "cell_type": "markdown",
   "metadata": {},
   "source": [
    "## - local\n"
   ]
  },
  {
   "cell_type": "code",
   "execution_count": 74,
   "metadata": {},
   "outputs": [
    {
     "name": "stdout",
     "output_type": "stream",
     "text": [
      "local\n"
     ]
    }
   ],
   "source": [
    "def foo():\n",
    "    y = 'local'\n",
    "    print(y)\n",
    "foo()\n",
    "#print(y) #Error"
   ]
  },
  {
   "cell_type": "markdown",
   "metadata": {},
   "source": [
    "## - Global"
   ]
  },
  {
   "cell_type": "code",
   "execution_count": 86,
   "metadata": {},
   "outputs": [
    {
     "name": "stdout",
     "output_type": "stream",
     "text": [
      "x inside : outer\n",
      "x outside : outer\n"
     ]
    }
   ],
   "source": [
    "x = 'outer'\n",
    "\n",
    "def foo():\n",
    "    print('x inside :',x)\n",
    "    \n",
    "foo()\n",
    "print('x outside :',x)"
   ]
  },
  {
   "cell_type": "code",
   "execution_count": 89,
   "metadata": {},
   "outputs": [
    {
     "ename": "UnboundLocalError",
     "evalue": "local variable 'x' referenced before assignment",
     "output_type": "error",
     "traceback": [
      "\u001b[0;31m---------------------------------------------------------------------------\u001b[0m",
      "\u001b[0;31mUnboundLocalError\u001b[0m                         Traceback (most recent call last)",
      "\u001b[0;32m<ipython-input-89-fe46452896fa>\u001b[0m in \u001b[0;36m<module>\u001b[0;34m()\u001b[0m\n\u001b[1;32m      4\u001b[0m     \u001b[0mx\u001b[0m \u001b[0;34m=\u001b[0m \u001b[0mx\u001b[0m \u001b[0;34m*\u001b[0m \u001b[0;36m2\u001b[0m\u001b[0;34m\u001b[0m\u001b[0;34m\u001b[0m\u001b[0m\n\u001b[1;32m      5\u001b[0m     \u001b[0mprint\u001b[0m\u001b[0;34m(\u001b[0m\u001b[0mx\u001b[0m\u001b[0;34m)\u001b[0m\u001b[0;34m\u001b[0m\u001b[0;34m\u001b[0m\u001b[0m\n\u001b[0;32m----> 6\u001b[0;31m \u001b[0mfoo\u001b[0m\u001b[0;34m(\u001b[0m\u001b[0;34m)\u001b[0m\u001b[0;34m\u001b[0m\u001b[0;34m\u001b[0m\u001b[0m\n\u001b[0m",
      "\u001b[0;32m<ipython-input-89-fe46452896fa>\u001b[0m in \u001b[0;36mfoo\u001b[0;34m()\u001b[0m\n\u001b[1;32m      2\u001b[0m \u001b[0;34m\u001b[0m\u001b[0m\n\u001b[1;32m      3\u001b[0m \u001b[0;32mdef\u001b[0m \u001b[0mfoo\u001b[0m\u001b[0;34m(\u001b[0m\u001b[0;34m)\u001b[0m\u001b[0;34m:\u001b[0m\u001b[0;34m\u001b[0m\u001b[0;34m\u001b[0m\u001b[0m\n\u001b[0;32m----> 4\u001b[0;31m     \u001b[0mx\u001b[0m \u001b[0;34m=\u001b[0m \u001b[0mx\u001b[0m \u001b[0;34m*\u001b[0m \u001b[0;36m2\u001b[0m\u001b[0;34m\u001b[0m\u001b[0;34m\u001b[0m\u001b[0m\n\u001b[0m\u001b[1;32m      5\u001b[0m     \u001b[0mprint\u001b[0m\u001b[0;34m(\u001b[0m\u001b[0mx\u001b[0m\u001b[0;34m)\u001b[0m\u001b[0;34m\u001b[0m\u001b[0;34m\u001b[0m\u001b[0m\n\u001b[1;32m      6\u001b[0m \u001b[0mfoo\u001b[0m\u001b[0;34m(\u001b[0m\u001b[0;34m)\u001b[0m\u001b[0;34m\u001b[0m\u001b[0;34m\u001b[0m\u001b[0m\n",
      "\u001b[0;31mUnboundLocalError\u001b[0m: local variable 'x' referenced before assignment"
     ]
    }
   ],
   "source": [
    "x = 'Global'\n",
    "\n",
    "def foo():\n",
    "    x = x * 2\n",
    "    print(x)\n",
    "foo()"
   ]
  },
  {
   "cell_type": "code",
   "execution_count": 90,
   "metadata": {
    "scrolled": true
   },
   "outputs": [
    {
     "name": "stdout",
     "output_type": "stream",
     "text": [
      "globalglobal\n",
      "local\n",
      "globalglobal\n"
     ]
    }
   ],
   "source": [
    "x = 'global'\n",
    "\n",
    "def foo():\n",
    "    global x\n",
    "    y = 'local'\n",
    "    x = x * 2\n",
    "    print(x)\n",
    "    print(y)\n",
    "foo()\n",
    "print(x)"
   ]
  },
  {
   "cell_type": "markdown",
   "metadata": {},
   "source": [
    "# Types of Functions"
   ]
  },
  {
   "cell_type": "markdown",
   "metadata": {},
   "source": [
    "- Build-in\n",
    "- user-Define"
   ]
  },
  {
   "cell_type": "markdown",
   "metadata": {},
   "source": [
    "## - Build-in"
   ]
  },
  {
   "cell_type": "markdown",
   "metadata": {},
   "source": [
    "abs()\tdelattr()\thash()\tmemoryview()\tset()\n",
    "all()\tdict()\thelp()\tmin()\tsetattr()\n",
    "any()\tdir()\thex()\tnext()\tslice()\n",
    "ascii()\tdivmod()\tid()\tobject()\tsorted()\n",
    "bin()\tenumerate()\tinput()\toct()\tstaticmethod()\n",
    "bool()\teval()\tint()\topen()\tstr()\n",
    "breakpoint()\texec()\tisinstance()\tord()\tsum()\n",
    "bytearray()\tfilter()\tissubclass()\tpow()\tsuper()\n",
    "bytes()\tfloat()\titer()\tprint()\ttuple()\n",
    "callable()\tformat()\tlen()\tproperty()\ttype()\n",
    "chr()\tfrozenset()\tlist()\trange()\tvars()\n",
    "classmethod()\tgetattr()\tlocals()\trepr()\tzip()\n",
    "compile()\tglobals()\tmap()\treversed()\t__import__()\n",
    "complex()\thasattr()\tmax()\tround()\t "
   ]
  },
  {
   "cell_type": "markdown",
   "metadata": {},
   "source": [
    "## - User-Define"
   ]
  }
 ],
 "metadata": {
  "kernelspec": {
   "display_name": "Python 3",
   "language": "python",
   "name": "python3"
  },
  "language_info": {
   "codemirror_mode": {
    "name": "ipython",
    "version": 3
   },
   "file_extension": ".py",
   "mimetype": "text/x-python",
   "name": "python",
   "nbconvert_exporter": "python",
   "pygments_lexer": "ipython3",
   "version": "3.6.7"
  }
 },
 "nbformat": 4,
 "nbformat_minor": 2
}
