{
  "cells": [
    {
      "cell_type": "markdown",
      "metadata": {
        "pycharm": {}
      },
      "source": [
        "# Function + docstring"
      ]
    },
    {
      "cell_type": "code",
      "execution_count": 13,
      "metadata": {
        "scrolled": true,
        "pycharm": {}
      },
      "outputs": [
        {
          "name": "stdout",
          "output_type": "stream",
          "text": [
            "This function say hello follow by name \n",
            "Hello, top\n"
          ]
        }
      ],
      "source": [
        "def hello(name):\n",
        "    \"\"\"This function say hello follow by name \"\"\"\n",
        "    print(\"Hello,\", name)\n",
        "    \n",
        "print(hello.__doc__)\n",
        "hello(\u0027top\u0027)"
      ]
    },
    {
      "cell_type": "markdown",
      "metadata": {
        "pycharm": {}
      },
      "source": [
        "# Return"
      ]
    },
    {
      "cell_type": "raw",
      "metadata": {
        "pycharm": {}
      },
      "source": [
        "def function_name(parameters):\n",
        "    \"\"\"docstring\"\"\"\n",
        "    statement(s)\n",
        "    return [expression]"
      ]
    },
    {
      "cell_type": "code",
      "execution_count": 25,
      "metadata": {
        "pycharm": {}
      },
      "outputs": [
        {
          "name": "stdout",
          "output_type": "stream",
          "text": [
            "Hello,Jack\n"
          ]
        }
      ],
      "source": [
        "def hello(name):\n",
        "    \"\"\"This function say hello follow by name \"\"\"\n",
        "    return \u0027Hello,\u0027+name\n",
        "print(hello(\u0027Jack\u0027))\n"
      ]
    },
    {
      "cell_type": "markdown",
      "metadata": {
        "pycharm": {}
      },
      "source": [
        "# Function Arguments"
      ]
    },
    {
      "cell_type": "markdown",
      "metadata": {
        "pycharm": {}
      },
      "source": [
        "- Requird arguments\n",
        "- Keyword arguments\n",
        "- Default arguments\n",
        "- Variable-length arguments"
      ]
    },
    {
      "cell_type": "markdown",
      "metadata": {
        "pycharm": {}
      },
      "source": [
        "## - Requird arguments"
      ]
    },
    {
      "cell_type": "code",
      "execution_count": 38,
      "metadata": {
        "pycharm": {}
      },
      "outputs": [
        {
          "name": "stdout",
          "output_type": "stream",
          "text": [
            "Hello,Jack\n"
          ]
        }
      ],
      "source": [
        "def hello(name):\n",
        "    \"\"\"This function say hello follow by name \"\"\"\n",
        "    return \u0027Hello,\u0027+name\n",
        "print(hello(\u0027Jack\u0027))\n",
        "\n",
        "# print(hello()) #Error"
      ]
    },
    {
      "cell_type": "markdown",
      "metadata": {
        "pycharm": {}
      },
      "source": [
        "## - Keyword arguments"
      ]
    },
    {
      "cell_type": "code",
      "execution_count": 41,
      "metadata": {
        "pycharm": {}
      },
      "outputs": [
        {
          "name": "stdout",
          "output_type": "stream",
          "text": [
            "Hello,Jack\n",
            "Hello,top\n"
          ]
        }
      ],
      "source": [
        "def hello(name):\n",
        "    \"\"\"This function say hello follow by name \"\"\"\n",
        "    return \u0027Hello,\u0027+name\n",
        "\n",
        "print(hello(\u0027Jack\u0027))\n",
        "print(hello(name\u003d\u0027top\u0027))\n",
        "#print(hello(name2\u003d\u0027Jack\u0027)) #Error"
      ]
    },
    {
      "cell_type": "markdown",
      "metadata": {
        "pycharm": {}
      },
      "source": [
        "## - Default arguments"
      ]
    },
    {
      "cell_type": "code",
      "execution_count": 42,
      "metadata": {
        "pycharm": {}
      },
      "outputs": [
        {
          "name": "stdout",
          "output_type": "stream",
          "text": [
            "Hello,None\n",
            "Hello,Jack\n",
            "Hello,top\n"
          ]
        }
      ],
      "source": [
        "def hello(name\u003d\u0027None\u0027):\n",
        "    \"\"\"This function say hello follow by name \"\"\"\n",
        "    return \u0027Hello,\u0027+name\n",
        "\n",
        "print(hello())\n",
        "print(hello(\u0027Jack\u0027))\n",
        "print(hello(name\u003d\u0027top\u0027))"
      ]
    },
    {
      "cell_type": "markdown",
      "metadata": {
        "pycharm": {}
      },
      "source": [
        "## - Variable-length arguments"
      ]
    },
    {
      "cell_type": "code",
      "execution_count": 43,
      "metadata": {
        "pycharm": {}
      },
      "outputs": [
        {
          "name": "stdout",
          "output_type": "stream",
          "text": [
            "Hello,top Howare you\n",
            "Hello,Tony 123\n"
          ]
        }
      ],
      "source": [
        "def hello(name\u003d\u0027None\u0027,*word): # \u0027 * \u0027 *word \u003d Tuple\n",
        "    \"\"\"This function say hello follow by name \"\"\"\n",
        "    text\u003d\u0027\u0027\n",
        "    for w in word :\n",
        "        text+\u003dstr(w)\n",
        "    return \u0027Hello,\u0027+name+\u0027 \u0027+text\n",
        "\n",
        "print(hello(\u0027top\u0027,\u0027How\u0027,\u0027are you\u0027)) # Hello,top Howare you\n",
        "print(hello(\u0027Tony\u0027,1,2,3)) # Hello,Tony 123\n",
        "\n",
        "# print(hello(name\u003d\u0027top\u0027,\u0027How\u0027,\u0027are you\u0027)) #Erroe\n",
        "# n* arguments"
      ]
    },
    {
      "cell_type": "markdown",
      "metadata": {
        "pycharm": {}
      },
      "source": [
        "# Anonymous Functions"
      ]
    },
    {
      "cell_type": "markdown",
      "metadata": {
        "pycharm": {}
      },
      "source": [
        "# Lambda"
      ]
    },
    {
      "cell_type": "code",
      "execution_count": 44,
      "metadata": {
        "pycharm": {}
      },
      "outputs": [
        {
          "ename": "SyntaxError",
          "evalue": "invalid syntax (\u003cipython-input-44-0dcbbdafda14\u003e, line 1)",
          "output_type": "error",
          "traceback": [
            "\u001b[0;36m  File \u001b[0;32m\"\u003cipython-input-44-0dcbbdafda14\u003e\"\u001b[0;36m, line \u001b[0;32m1\u001b[0m\n\u001b[0;31m    lamba arguments: expression\u001b[0m\n\u001b[0m                  ^\u001b[0m\n\u001b[0;31mSyntaxError\u001b[0m\u001b[0;31m:\u001b[0m invalid syntax\n"
          ]
        }
      ],
      "source": [
        "lamba arguments: expression"
      ]
    },
    {
      "cell_type": "code",
      "execution_count": 52,
      "metadata": {
        "pycharm": {}
      },
      "outputs": [
        {
          "name": "stdout",
          "output_type": "stream",
          "text": [
            "30\n",
            "10\n",
            "2.0\n",
            "200\n"
          ]
        }
      ],
      "source": [
        "sum \u003d lambda n1,n2 : n1+n2\n",
        "sub \u003d lambda n1,n2 : n1-n2\n",
        "div \u003d lambda n1,n2 : n1/n2\n",
        "mul \u003d lambda n1,n2 : n1*n2\n",
        "\n",
        "print(sum(20,10)) #30\n",
        "print(sub(20,10)) #10\n",
        "print(div(20,10)) #2.0\n",
        "print(mul(20,10)) #200\n",
        "\n",
        "def sum(n1,n2):\n",
        "    return n1+n2"
      ]
    },
    {
      "cell_type": "markdown",
      "metadata": {
        "pycharm": {}
      },
      "source": [
        "## - Lambda Functions"
      ]
    },
    {
      "cell_type": "code",
      "execution_count": 58,
      "metadata": {
        "pycharm": {}
      },
      "outputs": [
        {
          "name": "stdout",
          "output_type": "stream",
          "text": [
            "22\n",
            "33\n"
          ]
        }
      ],
      "source": [
        "def myfunc(n):\n",
        "  return lambda a : a * n\n",
        "\n",
        "mydoubler \u003d myfunc(2)\n",
        "mytripler \u003d myfunc(3)\n",
        "\n",
        "print(mydoubler(11))  ##22\n",
        "print(mytripler(11))  ##33"
      ]
    },
    {
      "cell_type": "markdown",
      "metadata": {
        "pycharm": {}
      },
      "source": [
        "# Scope"
      ]
    },
    {
      "cell_type": "markdown",
      "metadata": {
        "pycharm": {}
      },
      "source": [
        "- local\n",
        "- Global"
      ]
    },
    {
      "cell_type": "markdown",
      "metadata": {
        "pycharm": {}
      },
      "source": [
        "## - local\n"
      ]
    },
    {
      "cell_type": "code",
      "execution_count": 74,
      "metadata": {
        "pycharm": {}
      },
      "outputs": [
        {
          "name": "stdout",
          "output_type": "stream",
          "text": [
            "local\n"
          ]
        }
      ],
      "source": [
        "def foo():\n",
        "    y \u003d \u0027local\u0027\n",
        "    print(y)\n",
        "foo()\n",
        "#print(y) #Error"
      ]
    },
    {
      "cell_type": "markdown",
      "metadata": {
        "pycharm": {}
      },
      "source": [
        "## - Global"
      ]
    },
    {
      "cell_type": "code",
      "execution_count": 86,
      "metadata": {
        "pycharm": {}
      },
      "outputs": [
        {
          "name": "stdout",
          "output_type": "stream",
          "text": [
            "x inside : outer\n",
            "x outside : outer\n"
          ]
        }
      ],
      "source": [
        "x \u003d \u0027outer\u0027\n",
        "\n",
        "def foo():\n",
        "    print(\u0027x inside :\u0027,x)\n",
        "    \n",
        "foo()\n",
        "print(\u0027x outside :\u0027,x)"
      ]
    },
    {
      "cell_type": "code",
      "execution_count": 1,
      "metadata": {
        "pycharm": {
          "is_executing": false
        }
      },
      "outputs": [
        {
          "traceback": [
            "\u001b[0;31m---------------------------------------------------------------------------\u001b[0m",
            "\u001b[0;31mUnboundLocalError\u001b[0m                         Traceback (most recent call last)",
            "\u001b[0;32m\u003cipython-input-1-fe46452896fa\u003e\u001b[0m in \u001b[0;36m\u003cmodule\u003e\u001b[0;34m\u001b[0m\n\u001b[1;32m      4\u001b[0m     \u001b[0mx\u001b[0m \u001b[0;34m\u003d\u001b[0m \u001b[0mx\u001b[0m \u001b[0;34m*\u001b[0m \u001b[0;36m2\u001b[0m\u001b[0;34m\u001b[0m\u001b[0;34m\u001b[0m\u001b[0m\n\u001b[1;32m      5\u001b[0m     \u001b[0mprint\u001b[0m\u001b[0;34m(\u001b[0m\u001b[0mx\u001b[0m\u001b[0;34m)\u001b[0m\u001b[0;34m\u001b[0m\u001b[0;34m\u001b[0m\u001b[0m\n\u001b[0;32m----\u003e 6\u001b[0;31m \u001b[0mfoo\u001b[0m\u001b[0;34m(\u001b[0m\u001b[0;34m)\u001b[0m\u001b[0;34m\u001b[0m\u001b[0;34m\u001b[0m\u001b[0m\n\u001b[0m",
            "\u001b[0;32m\u003cipython-input-1-fe46452896fa\u003e\u001b[0m in \u001b[0;36mfoo\u001b[0;34m()\u001b[0m\n\u001b[1;32m      2\u001b[0m \u001b[0;34m\u001b[0m\u001b[0m\n\u001b[1;32m      3\u001b[0m \u001b[0;32mdef\u001b[0m \u001b[0mfoo\u001b[0m\u001b[0;34m(\u001b[0m\u001b[0;34m)\u001b[0m\u001b[0;34m:\u001b[0m\u001b[0;34m\u001b[0m\u001b[0;34m\u001b[0m\u001b[0m\n\u001b[0;32m----\u003e 4\u001b[0;31m     \u001b[0mx\u001b[0m \u001b[0;34m\u003d\u001b[0m \u001b[0mx\u001b[0m \u001b[0;34m*\u001b[0m \u001b[0;36m2\u001b[0m\u001b[0;34m\u001b[0m\u001b[0;34m\u001b[0m\u001b[0m\n\u001b[0m\u001b[1;32m      5\u001b[0m     \u001b[0mprint\u001b[0m\u001b[0;34m(\u001b[0m\u001b[0mx\u001b[0m\u001b[0;34m)\u001b[0m\u001b[0;34m\u001b[0m\u001b[0;34m\u001b[0m\u001b[0m\n\u001b[1;32m      6\u001b[0m \u001b[0mfoo\u001b[0m\u001b[0;34m(\u001b[0m\u001b[0;34m)\u001b[0m\u001b[0;34m\u001b[0m\u001b[0;34m\u001b[0m\u001b[0m\n",
            "\u001b[0;31mUnboundLocalError\u001b[0m: local variable \u0027x\u0027 referenced before assignment"
          ],
          "ename": "UnboundLocalError",
          "evalue": "local variable \u0027x\u0027 referenced before assignment",
          "output_type": "error"
        }
      ],
      "source": [
        "x \u003d \u0027Global\u0027\n",
        "\n",
        "def foo():\n",
        "    x \u003d x * 2\n",
        "    print(x)\n",
        "foo()"
      ]
    },
    {
      "cell_type": "code",
      "execution_count": 90,
      "metadata": {
        "scrolled": true,
        "pycharm": {}
      },
      "outputs": [
        {
          "name": "stdout",
          "output_type": "stream",
          "text": [
            "globalglobal\n",
            "local\n",
            "globalglobal\n"
          ]
        }
      ],
      "source": [
        "x \u003d \u0027global\u0027\n",
        "\n",
        "def foo():\n",
        "    global x\n",
        "    y \u003d \u0027local\u0027\n",
        "    x \u003d x * 2\n",
        "    print(x)\n",
        "    print(y)\n",
        "foo()\n",
        "print(x)"
      ]
    },
    {
      "cell_type": "markdown",
      "metadata": {
        "pycharm": {}
      },
      "source": [
        "# Types of Functions"
      ]
    },
    {
      "cell_type": "markdown",
      "metadata": {
        "pycharm": {}
      },
      "source": [
        "- Build-in\n",
        "- user-Define"
      ]
    },
    {
      "cell_type": "markdown",
      "metadata": {
        "pycharm": {}
      },
      "source": [
        "## - Build-in"
      ]
    },
    {
      "cell_type": "markdown",
      "metadata": {
        "pycharm": {}
      },
      "source": [
        "abs()\tdelattr()\thash()\tmemoryview()\tset()\n",
        "all()\tdict()\thelp()\tmin()\tsetattr()\n",
        "any()\tdir()\thex()\tnext()\tslice()\n",
        "ascii()\tdivmod()\tid()\tobject()\tsorted()\n",
        "bin()\tenumerate()\tinput()\toct()\tstaticmethod()\n",
        "bool()\teval()\tint()\topen()\tstr()\n",
        "breakpoint()\texec()\tisinstance()\tord()\tsum()\n",
        "bytearray()\tfilter()\tissubclass()\tpow()\tsuper()\n",
        "bytes()\tfloat()\titer()\tprint()\ttuple()\n",
        "callable()\tformat()\tlen()\tproperty()\ttype()\n",
        "chr()\tfrozenset()\tlist()\trange()\tvars()\n",
        "classmethod()\tgetattr()\tlocals()\trepr()\tzip()\n",
        "compile()\tglobals()\tmap()\treversed()\t__import__()\n",
        "complex()\thasattr()\tmax()\tround()\t "
      ]
    },
    {
      "cell_type": "markdown",
      "metadata": {
        "pycharm": {}
      },
      "source": [
        "## - User-Define"
      ]
    }
  ],
  "metadata": {
    "kernelspec": {
      "display_name": "Python 3",
      "language": "python",
      "name": "python3"
    },
    "language_info": {
      "codemirror_mode": {
        "name": "ipython",
        "version": 3
      },
      "file_extension": ".py",
      "mimetype": "text/x-python",
      "name": "python",
      "nbconvert_exporter": "python",
      "pygments_lexer": "ipython3",
      "version": "3.6.7"
    }
  },
  "nbformat": 4,
  "nbformat_minor": 2
}